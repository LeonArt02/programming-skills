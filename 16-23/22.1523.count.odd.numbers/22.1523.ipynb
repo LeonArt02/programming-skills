{
 "cells": [
  {
   "cell_type": "markdown",
   "metadata": {},
   "source": [
    "# 💙 Solution 22. 1523 Count Odd Numbers in an Interval Range\n",
    "\n",
    "## 📝 Quick explanation\n",
    "\n",
    "- Define the lenght of the range: `let len = high - low + 1`\n",
    "- Then we define the result value as an integer floor division `let res = Math.floor(len / 2)`, which will give us a parcial result.\n",
    "- We define an if statement with module on 'len' and 'low', if both contiditions met, sum 1 to the final result.\n",
    "- Return res that will sum all the odds in a range\n",
    "# 💙 Code\n",
    "```javascript\n",
    "/* \n",
    " * @param {number} low\n",
    " * @param {number} high\n",
    " * @return {number}\n",
    " */\n",
    "var countOdds = function (low, high) {\n",
    "    let len = high - low + 1\n",
    "    let res = Math.floor(len / 2)\n",
    "    if (len % 2 && low % 2) {\n",
    "        res++\n",
    "    }\n",
    "    return res\n",
    "}\n",
    "```"
   ]
  },
  {
   "cell_type": "code",
   "execution_count": 39,
   "metadata": {
    "vscode": {
     "languageId": "javascript"
    }
   },
   "outputs": [
    {
     "ename": "IndentationError",
     "evalue": "unexpected indent (842059539.py, line 2)",
     "output_type": "error",
     "traceback": [
      "\u001b[1;36m  Cell \u001b[1;32mIn[39], line 2\u001b[1;36m\u001b[0m\n\u001b[1;33m    * @param {number} low\u001b[0m\n\u001b[1;37m    ^\u001b[0m\n\u001b[1;31mIndentationError\u001b[0m\u001b[1;31m:\u001b[0m unexpected indent\n"
     ]
    }
   ],
   "source": [
    "/* FINAL SOLUTION \n",
    " * @param {number} low\n",
    " * @param {number} high\n",
    " * @return {number}\n",
    " */\n",
    "var countOdds = function (low, high) {\n",
    "    let size = high - low + 1\n",
    "    let res = Math.floor(size / 2)\n",
    "    if (low % 2 && high % 2) {\n",
    "        res++\n",
    "    }\n",
    "    return res\n",
    "}"
   ]
  },
  {
   "cell_type": "code",
   "execution_count": null,
   "metadata": {},
   "outputs": [],
   "source": [
    "class Solution(object):\n",
    "    def countOdds(self, low, high):\n",
    "        \"\"\"\n",
    "        :type low: int\n",
    "        :type high: int\n",
    "        :rtype: int\n",
    "        \"\"\"\n",
    "        res = 0\n",
    "        for x in range(low, high+1):\n",
    "            if x % 2 == 1:\n",
    "                res +=1\n",
    "        \n",
    "        return res"
   ]
  },
  {
   "cell_type": "code",
   "execution_count": null,
   "metadata": {
    "vscode": {
     "languageId": "javascript"
    }
   },
   "outputs": [],
   "source": [
    "/*\n",
    " * @param {number} low\n",
    " * @param {number} high\n",
    " * @return {number}\n",
    " */\n",
    "var countOdds = function(low, high) {\n",
    "    let num = 0\n",
    " for (let i = low; i <= high; i++) {\n",
    "     if (i % 2 != 0) {\n",
    "         num++;\n",
    "     }\n",
    " }\n",
    " return num\n",
    "};"
   ]
  },
  {
   "cell_type": "code",
   "execution_count": null,
   "metadata": {
    "vscode": {
     "languageId": "javascript"
    }
   },
   "outputs": [
    {
     "ename": "IndentationError",
     "evalue": "unexpected indent (4252249200.py, line 2)",
     "output_type": "error",
     "traceback": [
      "\u001b[1;36m  Cell \u001b[1;32mIn[36], line 2\u001b[1;36m\u001b[0m\n\u001b[1;33m    * @param {number} low\u001b[0m\n\u001b[1;37m    ^\u001b[0m\n\u001b[1;31mIndentationError\u001b[0m\u001b[1;31m:\u001b[0m unexpected indent\n"
     ]
    }
   ],
   "source": [
    "/*\n",
    " * @param {number} low\n",
    " * @param {number} high\n",
    " * @return {number}\n",
    " */\n",
    "\n",
    "var countOdds = function(low, high) {\n",
    "    if (high % 2 === 0 && low % 2 === 0) return (high - low) / 2\n",
    "    else if (high % 2 === 0 || low % 2 === 0) return (high - low) / 2\n",
    "    else return ((high - low) / 2) + 1\n",
    "}"
   ]
  },
  {
   "cell_type": "code",
   "execution_count": null,
   "metadata": {},
   "outputs": [
    {
     "name": "stdout",
     "output_type": "stream",
     "text": [
      "3\n",
      "1\n",
      "2\n"
     ]
    }
   ],
   "source": [
    "inst = Solution()\n",
    "\n",
    "ex1 = inst.countOdds(low=3, high=7)\n",
    "print(ex1) # Expected 3 (The odd numbers between 3 and 7 are [3,5,7].)\n",
    "\n",
    "ex2 = inst.countOdds(low=8, high=10)\n",
    "print(ex2) # Expected 1 (The odd numbers between 8 and 10 are [9].)\n",
    "\n",
    "ex3 = inst.countOdds(low=8, high=11)\n",
    "print(ex3) # Expected 1 (The odd numbers between 8 and 10 are [9].)\n"
   ]
  }
 ],
 "metadata": {
  "kernelspec": {
   "display_name": "Python 3",
   "language": "python",
   "name": "python3"
  },
  "language_info": {
   "codemirror_mode": {
    "name": "ipython",
    "version": 3
   },
   "file_extension": ".py",
   "mimetype": "text/x-python",
   "name": "python",
   "nbconvert_exporter": "python",
   "pygments_lexer": "ipython3",
   "version": "3.12.0"
  }
 },
 "nbformat": 4,
 "nbformat_minor": 2
}
