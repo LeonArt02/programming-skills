{
 "cells": [
  {
   "cell_type": "markdown",
   "metadata": {},
   "source": [
    "## 💙 20 54.Spiral Matrix\n",
    "Given an `m x n` `matrix`, return all elements of the `matrix` in spiral order.\n",
    "\n",
    "\n",
    "#### Example 1:\n",
    "<img src=\"assets/spiral1.jpg\" width=\"150\">\n",
    "\n",
    "- **Input:** matrix = [[1,2,3],[4,5,6],[7,8,9]]\n",
    "\n",
    "- **Output:** [1,2,3,6,9,8,7,4,5]\n",
    "\n",
    "#### Example 2:\n",
    "<img src=\"assets/spiral2.jpg\" width=\"150\">\n",
    "\n",
    "- **Input:** matrix = [[1,2,3,4],[5,6,7,8],[9,10,11,12]]\n",
    "\n",
    "- **Output:** [1,2,3,4,8,12,11,10,9,5,6,7]\n",
    "\n",
    "**Constraints:**\n",
    "- `m == matrix.length`\n",
    "- `n == matrix[i].length`\n",
    "- `1 <= m, n <= 10`\n",
    "- `-100 <= matrix[i][j] <= 100`"
   ]
  },
  {
   "cell_type": "markdown",
   "metadata": {},
   "source": []
  },
  {
   "cell_type": "code",
   "execution_count": 28,
   "metadata": {},
   "outputs": [],
   "source": [
    "class Solution(object):\n",
    "    def spiralOrder(self, matrix):\n",
    "        \"\"\"\n",
    "        :type matrix: List[List[int]]\n",
    "        :rtype: List[int]\n",
    "        \"\"\"\n",
    "        \n",
    "        l, r = 0, len(matrix[0])\n",
    "        t, b = 0, len(matrix)\n",
    "        res = []\n",
    "        while(l<r and t<b):\n",
    "            for i in range(l,r,1):\n",
    "                res.append(matrix[t][i])\n",
    "            t += 1\n",
    "\n",
    "            for j in range(t, b, 1):\n",
    "                res.append(matrix[j][r-1])\n",
    "            r -= 1\n",
    "\n",
    "            if not(l<r and t<b):\n",
    "                break\n",
    "\n",
    "            for i in range(r-1, l-1, -1):\n",
    "                res.append(matrix[b-1][i])\n",
    "            b -= 1\n",
    "\n",
    "            for j in range(b-1, t-1, -1):\n",
    "                res.append(matrix[j][l])\n",
    "            l += 1\n",
    "\n",
    "\n",
    "        return res"
   ]
  },
  {
   "cell_type": "code",
   "execution_count": 29,
   "metadata": {},
   "outputs": [
    {
     "name": "stdout",
     "output_type": "stream",
     "text": [
      "[1, 2, 3, 6, 9, 8, 7, 4, 5]\n",
      "[1, 2, 3, 4, 8, 12, 11, 10, 9, 5, 6, 7]\n"
     ]
    }
   ],
   "source": [
    "# Testcase\n",
    "inst = Solution()\n",
    "\n",
    "# example 1\n",
    "r = inst.spiralOrder([[1,2,3],[4,5,6],[7,8,9]])\n",
    "print(r) # expected : [1,2,3,6,9,8,7,4,5]\n",
    "\n",
    "\n",
    "# example 2\n",
    "r = inst.spiralOrder([[1,2,3,4],[5,6,7,8],[9,10,11,12]])\n",
    "print(r) # expected : [1,2,3,4,8,12,11,10,9,5,6,7]\n"
   ]
  }
 ],
 "metadata": {
  "kernelspec": {
   "display_name": "Python 3",
   "language": "python",
   "name": "python3"
  },
  "language_info": {
   "codemirror_mode": {
    "name": "ipython",
    "version": 3
   },
   "file_extension": ".py",
   "mimetype": "text/x-python",
   "name": "python",
   "nbconvert_exporter": "python",
   "pygments_lexer": "ipython3",
   "version": "3.12.0"
  }
 },
 "nbformat": 4,
 "nbformat_minor": 2
}
