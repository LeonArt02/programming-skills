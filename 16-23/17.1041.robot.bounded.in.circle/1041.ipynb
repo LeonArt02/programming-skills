{
 "cells": [
  {
   "cell_type": "markdown",
   "metadata": {},
   "source": [
    "## 💙 1041. Robot Bounded In Circle\n",
    "On an infinite plane, a robot initially stants at `(0,0)` and faces north. Note that:\n",
    "- The **north direction** is the positive direction of the y-axis.\n",
    "- The **south direction** is the negative direction of the y-axis.\n",
    "- The **east direction** is the positive direction of the x-axis.\n",
    "- The **west direction** is the negative direction of the x-axis.\n",
    "\n",
    "The robot can receive one of three instructions:\n",
    "- `'G'`: go straight 1 unit.\n",
    "- `'L'`: turn 90 degrees to the left (anti-dockwise direction).\n",
    "- `'R'`: turn 90 degrees to the right (clockwise direction).\n",
    "\n",
    "The robot performs the `instructions` given in order, and repeats them forever.\n",
    "\n",
    "Return `true` if and only if there exists a circle in the plane such that the robot never leaves the circle."
   ]
  },
  {
   "cell_type": "code",
   "execution_count": 9,
   "metadata": {},
   "outputs": [],
   "source": [
    "class Solution(object):\n",
    "    def isRobotBounded(self, instr):\n",
    "        pos = [0,0]\n",
    "\n",
    "        def rotate(dir, s):\n",
    "            if s==\"L\":\n",
    "                dir[0], dir[1] = - dir[1], dir[0] \n",
    "            else:\n",
    "                dir[0], dir[1] = dir[1], - dir[0]\n",
    "            return dir\n",
    "\n",
    "        def go(pos, dir):\n",
    "            pos[0] += dir[0]\n",
    "            pos[1] += dir[1]\n",
    "            return pos\n",
    "\n",
    "        dir = [1, 0]\n",
    "        for i in range(4):\n",
    "            for s in instr:\n",
    "                if s==\"G\":\n",
    "                    pos = go(pos, dir)\n",
    "                else:\n",
    "                    dir = rotate(dir, s)\n",
    "                \n",
    "            if pos[0]==0 and pos[1]==0:\n",
    "                return True\n",
    "        return False\n"
   ]
  },
  {
   "cell_type": "code",
   "execution_count": 10,
   "metadata": {},
   "outputs": [
    {
     "name": "stdout",
     "output_type": "stream",
     "text": [
      "True\n",
      "False\n",
      "True\n"
     ]
    }
   ],
   "source": [
    "inst = Solution()\n",
    "\n",
    "print(inst.isRobotBounded('GGLLGG'))\n",
    "print(inst.isRobotBounded('GG'))\n",
    "print(inst.isRobotBounded('GL'))\n"
   ]
  }
 ],
 "metadata": {
  "kernelspec": {
   "display_name": "Python 3",
   "language": "python",
   "name": "python3"
  },
  "language_info": {
   "codemirror_mode": {
    "name": "ipython",
    "version": 3
   },
   "file_extension": ".py",
   "mimetype": "text/x-python",
   "name": "python",
   "nbconvert_exporter": "python",
   "pygments_lexer": "ipython3",
   "version": "3.12.0"
  }
 },
 "nbformat": 4,
 "nbformat_minor": 2
}
