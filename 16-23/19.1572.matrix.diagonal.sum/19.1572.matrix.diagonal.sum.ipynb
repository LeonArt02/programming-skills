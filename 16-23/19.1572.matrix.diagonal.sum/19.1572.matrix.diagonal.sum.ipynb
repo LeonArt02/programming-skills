{
 "cells": [
  {
   "cell_type": "markdown",
   "metadata": {},
   "source": [
    "# 💙 Solution (19) 1572. Matrix Diagonal Sum\n",
    "# 💙 Code\n",
    "```python\n",
    "class Solution(object):\n",
    "    def diagonalSum(self, m):\n",
    "        sum = 0\n",
    "        for i in range(len(m)):\n",
    "            sum += m[i][i] + m[i][-i-1]\n",
    "        if len(m) % 2 == 1:\n",
    "            sum -= m[len(m) // 2][len(m) // 2]\n",
    "        return sum\n",
    "```"
   ]
  },
  {
   "cell_type": "code",
   "execution_count": 109,
   "metadata": {},
   "outputs": [],
   "source": [
    "class Solution(object):\n",
    "    def diagonalSum(self, m):\n",
    "        \"\"\"\n",
    "        :type m: List[List[int]]\n",
    "        :rtype: int\n",
    "        \"\"\"\n",
    "        sum = 0\n",
    "        for i in range(len(m)):\n",
    "            sum += m[i][i] + m[i][-i-1]\n",
    "        if len(m) % 2 == 1:\n",
    "            sum -= m[len(m) // 2][len(m) // 2]\n",
    "        return sum\n",
    "        "
   ]
  },
  {
   "cell_type": "code",
   "execution_count": 110,
   "metadata": {},
   "outputs": [
    {
     "name": "stdout",
     "output_type": "stream",
     "text": [
      "25\n",
      "8\n",
      "5\n"
     ]
    }
   ],
   "source": [
    "# Testcases\n",
    "ob = Solution()\n",
    "\n",
    "# example 1\n",
    "matrix = [[1,2,3],\n",
    "          [4,5,6],\n",
    "          [7,8,9]]\n",
    "r = Solution().diagonalSum(matrix)\n",
    "print(r) # expected 25\n",
    "\n",
    "\n",
    "# example 2\n",
    "matrix = [[1,1,1,1],\n",
    "          [1,1,1,1],\n",
    "          [1,1,1,1],\n",
    "          [1,1,1,1]]\n",
    "r = Solution().diagonalSum(matrix)\n",
    "print(r) # expected 8\n",
    "\n",
    "\n",
    "# example 3\n",
    "matrix = [[5]]\n",
    "r = Solution().diagonalSum(matrix)\n",
    "print(r) # expected 5"
   ]
  },
  {
   "cell_type": "code",
   "execution_count": 111,
   "metadata": {},
   "outputs": [],
   "source": [
    "myrange = range(-1, -3)\n",
    "for seq in myrange:\n",
    "    print(seq)"
   ]
  }
 ],
 "metadata": {
  "kernelspec": {
   "display_name": "Python 3",
   "language": "python",
   "name": "python3"
  },
  "language_info": {
   "codemirror_mode": {
    "name": "ipython",
    "version": 3
   },
   "file_extension": ".py",
   "mimetype": "text/x-python",
   "name": "python",
   "nbconvert_exporter": "python",
   "pygments_lexer": "ipython3",
   "version": "3.12.0"
  }
 },
 "nbformat": 4,
 "nbformat_minor": 2
}
