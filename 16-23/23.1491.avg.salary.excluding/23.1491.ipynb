{
 "cells": [
  {
   "cell_type": "markdown",
   "metadata": {},
   "source": [
    "# 💙 Solution 22. 1491 Average Salary Ex...\n",
    "\n",
    "## 📝 Quick Explanation\n",
    "- `s.sort((a,b)=>a-b)` sort array as numbers (default is alphabetical)\n",
    "- `.slice(1,-1)` remove first and last element (min and max)\n",
    "- `.reduce((a,b)=>a+b)` get the total sum of the elements left\n",
    "- `/(s.length-2)` divide sum by number of elements (minus min and max)\n",
    "\n",
    "## 💙 Code\n",
    "```javascript\n",
    "const average=(s)=>s.sort((a,b)=>a-b).slice(1,-1).reduce((a,b)=>a+b)/(s.length-2)\n",
    "```"
   ]
  },
  {
   "cell_type": "code",
   "execution_count": null,
   "metadata": {
    "vscode": {
     "languageId": "javascript"
    }
   },
   "outputs": [],
   "source": [
    "const average=(s)=>s.sort((a,b)=>a-b).slice(1,-1).reduce((a,b)=>a+b)/(s.length-2)"
   ]
  },
  {
   "cell_type": "code",
   "execution_count": null,
   "metadata": {
    "vscode": {
     "languageId": "javascript"
    }
   },
   "outputs": [],
   "source": [
    "/*\n",
    " * @param {number[]} salary\n",
    " * @return {number}\n",
    " */\n",
    "var average = function(salary) {\n",
    "    salary.sort((a, b) => a-b)\n",
    "    salary.splice(0, 1)\n",
    "    salary.splice(salary.length - 1, 1)\n",
    "    return (salary.reduce((ac, cv) => ac + cv, 0)) / salary.length\n",
    "};"
   ]
  }
 ],
 "metadata": {
  "kernelspec": {
   "display_name": "Python 3",
   "language": "python",
   "name": "python3"
  },
  "language_info": {
   "codemirror_mode": {
    "name": "ipython",
    "version": 3
   },
   "file_extension": ".py",
   "mimetype": "text/x-python",
   "name": "python",
   "nbconvert_exporter": "python",
   "pygments_lexer": "ipython3",
   "version": "3.12.0"
  }
 },
 "nbformat": 4,
 "nbformat_minor": 2
}
