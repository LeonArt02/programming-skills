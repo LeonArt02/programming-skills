{
 "cells": [
  {
   "cell_type": "markdown",
   "metadata": {},
   "source": [
    "# 💙 Solution List 1672. Richest Customer Wealth\n",
    "\n",
    "- Python List Comprehension \n",
    "- sum() built-in function\n",
    "- max() built-in function\n",
    "\n",
    "# 💙 Code\n",
    "```python\n",
    "class Solution(object):\n",
    "    def maximumWealth(self, acc):\n",
    "        return max([sum(i) for i in acc])\n",
    "```"
   ]
  },
  {
   "cell_type": "code",
   "execution_count": null,
   "metadata": {},
   "outputs": [],
   "source": [
    "class Solution(object):\n",
    "    def maximumWealth(self, acc):\n",
    "        return max([sum(i) for i in acc])"
   ]
  },
  {
   "cell_type": "code",
   "execution_count": null,
   "metadata": {},
   "outputs": [],
   "source": [
    "class Solution(object):\n",
    "    def maximumWealth(self, acc):\n",
    "        \"\"\"\n",
    "        :type acc: List[List[int]]\n",
    "        :rtype: int\n",
    "        \"\"\"\n",
    "\n",
    "        customers = []\n",
    "        for i in acc:\n",
    "            total = 0\n",
    "            for j in i:\n",
    "                total += j\n",
    "            customers.append(total)\n",
    "        \n",
    "        return max(customers)\n"
   ]
  }
 ],
 "metadata": {
  "language_info": {
   "name": "python"
  }
 },
 "nbformat": 4,
 "nbformat_minor": 2
}
