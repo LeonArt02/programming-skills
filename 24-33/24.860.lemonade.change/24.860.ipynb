{
 "cells": [
  {
   "cell_type": "markdown",
   "metadata": {},
   "source": [
    "# 💙 Solution 24 860. Lemonade Change\n",
    "\n",
    "## 📝 Quick Explanation\n",
    "- Iterate over the given integer array (`for i in bills:`),\n",
    "    - `if i == 5:`, sum 1 to the five bills counter (`fiv += 1`),\n",
    "    - `if i == 10:` sum 1 to the ten bills counter (`ten += 1`) and give a 5 bill for change (`fiv -= 1`)\n",
    "    - `if i == 20:`, declare an nested if: \n",
    "        - `if ten >= 1:` (if we have 1 or more ten bills), provide 1 ten bill and 1 five bill(`ten-=1 fiv-=1`) for the change.\n",
    "        - `else:` provide 3 five bills for change (`fiv -= 3`)\n",
    "    - if in at least 1 iteration we dont have bills to provide the correct change (`if fiv < 0 or ten < 0:`) return `False`, meaning we can´t provide the correct change.\n",
    "    if all the iterations are correct, return `True` meaning we can actually provide the correct change.\n",
    "\n",
    "## 💙 Code\n",
    "```python\n",
    "class Solution(object):\n",
    "    def lemonadeChange(self, bills):\n",
    "        \"\"\"\n",
    "        :type bills: List[int]\n",
    "        :rtype: bool\n",
    "        \"\"\"\n",
    "        fiv = 0\n",
    "        ten = 0\n",
    "        for i in bills:\n",
    "            if i == 5:\n",
    "                fiv += 1\n",
    "            elif i == 10:\n",
    "                ten += 1\n",
    "                fiv -= 1\n",
    "            elif i == 20:\n",
    "                if ten >= 1:\n",
    "                    ten -= 1\n",
    "                    fiv -= 1\n",
    "                else:\n",
    "                    fiv -= 3\n",
    "            if fiv < 0 or ten < 0:\n",
    "                return False\n",
    "        return True\n",
    "```"
   ]
  },
  {
   "cell_type": "code",
   "execution_count": 21,
   "metadata": {},
   "outputs": [],
   "source": [
    "class Solution(object):\n",
    "    def lemonadeChange(self, bills):\n",
    "        \"\"\"\n",
    "        :type bills: List[int]\n",
    "        :rtype: bool\n",
    "        \"\"\"\n",
    "        fiv = 0\n",
    "        ten = 0\n",
    "        for i in bills:\n",
    "            if i == 5:\n",
    "                fiv += 1\n",
    "            elif i == 10:\n",
    "                ten += 1\n",
    "                fiv -= 1\n",
    "            elif i == 20:\n",
    "                if ten >= 1:\n",
    "                    ten -= 1\n",
    "                    fiv -= 1\n",
    "                else:\n",
    "                    fiv -= 3\n",
    "            if fiv < 0 or ten < 0:\n",
    "                return False\n",
    "        return True"
   ]
  },
  {
   "cell_type": "code",
   "execution_count": 22,
   "metadata": {},
   "outputs": [
    {
     "name": "stdout",
     "output_type": "stream",
     "text": [
      "True\n",
      "True\n"
     ]
    }
   ],
   "source": [
    "# TESTCASES\n",
    "inst = Solution()\n",
    "\n",
    "ex1 = inst.lemonadeChange([5,5,5,10,20])\n",
    "print(ex1) # expected : True\n",
    "\n",
    "ex2 = inst.lemonadeChange([5,5,10,10,20])\n",
    "print(ex1) # expected : True\n",
    "\n",
    "\n"
   ]
  }
 ],
 "metadata": {
  "kernelspec": {
   "display_name": "Python 3",
   "language": "python",
   "name": "python3"
  },
  "language_info": {
   "codemirror_mode": {
    "name": "ipython",
    "version": 3
   },
   "file_extension": ".py",
   "mimetype": "text/x-python",
   "name": "python",
   "nbconvert_exporter": "python",
   "pygments_lexer": "ipython3",
   "version": "3.12.0"
  }
 },
 "nbformat": 4,
 "nbformat_minor": 2
}
