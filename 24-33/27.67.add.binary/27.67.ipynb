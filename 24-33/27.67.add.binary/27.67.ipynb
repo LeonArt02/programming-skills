{
 "cells": [
  {
   "cell_type": "markdown",
   "metadata": {},
   "source": [
    "# 💙 Solution 27 67.Add Binary\n",
    "\n",
    "## 📝 Quick explanation\n",
    "- With `int(a, base=2)` & `int(b, base=2)` we transform the given binary into integer (base=2) for binary.\n",
    "- Sum both integers.\n",
    "- With `bin()` we transform the integer sum into binary & with [2:] we extract the prefix and return the result."
   ]
  },
  {
   "cell_type": "code",
   "execution_count": 11,
   "metadata": {},
   "outputs": [],
   "source": [
    "class Solution(object):\n",
    "    def addBinary(self, a, b):\n",
    "        \"\"\"\n",
    "        :type a: str\n",
    "        :type b: str\n",
    "        :rtype: str\n",
    "        \"\"\"\n",
    "        return bin((int(a,base=2)) + (int(b,base=2)))[2:]\n",
    "        "
   ]
  },
  {
   "cell_type": "code",
   "execution_count": 12,
   "metadata": {},
   "outputs": [
    {
     "name": "stdout",
     "output_type": "stream",
     "text": [
      "100\n",
      "10101\n"
     ]
    }
   ],
   "source": [
    "# Test Cases\n",
    "inst = Solution()\n",
    "ex1 = inst.addBinary(a='11', b='1')\n",
    "print(ex1) # ✅\n",
    "\n",
    "ex2 = inst.addBinary(a='1010', b='1011')\n",
    "print(ex2) # ✅"
   ]
  }
 ],
 "metadata": {
  "kernelspec": {
   "display_name": "Python 3",
   "language": "python",
   "name": "python3"
  },
  "language_info": {
   "codemirror_mode": {
    "name": "ipython",
    "version": 3
   },
   "file_extension": ".py",
   "mimetype": "text/x-python",
   "name": "python",
   "nbconvert_exporter": "python",
   "pygments_lexer": "ipython3",
   "version": "3.12.0"
  }
 },
 "nbformat": 4,
 "nbformat_minor": 2
}
